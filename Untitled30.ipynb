{
  "nbformat": 4,
  "nbformat_minor": 0,
  "metadata": {
    "colab": {
      "provenance": [],
      "authorship_tag": "ABX9TyNXk7BkakI1WB4LlLlwjytL",
      "include_colab_link": true
    },
    "kernelspec": {
      "name": "python3",
      "display_name": "Python 3"
    },
    "language_info": {
      "name": "python"
    }
  },
  "cells": [
    {
      "cell_type": "markdown",
      "metadata": {
        "id": "view-in-github",
        "colab_type": "text"
      },
      "source": [
        "<a href=\"https://colab.research.google.com/github/Prashantthhh/23CSBTB39-40/blob/main/Untitled30.ipynb\" target=\"_parent\"><img src=\"https://colab.research.google.com/assets/colab-badge.svg\" alt=\"Open In Colab\"/></a>"
      ]
    },
    {
      "cell_type": "markdown",
      "source": [
        "**bold text**"
      ],
      "metadata": {
        "id": "QuQlKr_PHy1D"
      }
    },
    {
      "cell_type": "code",
      "source": [
        "problem 1"
      ],
      "metadata": {
        "id": "VwSr7EN_H75z"
      },
      "execution_count": null,
      "outputs": []
    },
    {
      "cell_type": "code",
      "source": [
        "import pandas as pd\n",
        "import numpy as np\n",
        "import shap\n",
        "import matplotlib.pyplot as plt\n",
        "from sklearn.linear_model import LinearRegression\n",
        "\n",
        "df = pd.read_excel(\"Car_Sales.xlsx\")\n",
        "\n",
        "X = df[['Number of TV Ads (x)']]\n",
        "y = df['Number of Cars Sold (y)']\n",
        "\n",
        "model = LinearRegression()\n",
        "model.fit(X, y)\n",
        "\n",
        "slope = model.coef_[0]\n",
        "intercept = model.intercept_\n",
        "\n",
        "print(f\"Linear Regression Equation: y = {intercept:.2f} + {slope:.2f}x\")\n",
        "print(f\"Slope Interpretation: Each extra TV ad increases sales by {slope:.2f} cars.\")\n",
        "print(f\"Intercept Interpretation: {intercept:.2f} cars expected with 0 ads.\")\n",
        "\n",
        "pred = model.predict([[10]])[0]\n",
        "print(f\"Predicted Cars Sold (10 ads): {pred:.2f}\")\n",
        "\n",
        "if not hasattr(np, 'bool'):\n",
        "    np.bool = bool\n",
        "\n",
        "explainer = shap.Explainer(model, X)\n",
        "shap_values = explainer(X)\n",
        "\n",
        "shap_df = pd.DataFrame(shap_values.values, columns=['SHAP value for TV Ads'])\n",
        "result_df = pd.concat([df.reset_index(drop=True), shap_df], axis=1)\n",
        "print(\"\\nSHAP Values for All Instances:\")\n",
        "print(result_df)\n",
        "\n",
        "shap.plots.waterfall(shap_values[0])\n",
        "plt.show()\n",
        "\n",
        "shap.plots.force(shap_values)\n",
        "\n",
        "\n",
        "shap.summary_plot(shap_values, X, plot_type=\"bar\")\n",
        "plt.show()\n"
      ],
      "metadata": {
        "id": "x-gnXAiNHzNm"
      },
      "execution_count": null,
      "outputs": []
    },
    {
      "cell_type": "markdown",
      "source": [
        "problem 2"
      ],
      "metadata": {
        "id": "IukcRiemIGOJ"
      }
    },
    {
      "cell_type": "code",
      "source": [
        "import pandas as pd\n",
        "import numpy as np\n",
        "import shap\n",
        "import matplotlib.pyplot as plt\n",
        "from sklearn.linear_model import LinearRegression\n",
        "\n",
        "df = pd.read_excel(\"StudyHour.xlsx\")\n",
        "\n",
        "X = df[['IQ \\n', 'StudyHours']]\n",
        "y = df['TestScore']\n",
        "\n",
        "model = LinearRegression()\n",
        "model.fit(X, y)\n",
        "\n",
        "coef_iq = model.coef_[0]\n",
        "coef_hours = model.coef_[1]\n",
        "intercept = model.intercept_\n",
        "\n",
        "print(f\"Linear Regression Equation: y = {intercept:.2f} + {coef_iq:.2f}*IQ + {coef_hours:.2f}*StudyHours\")\n",
        "print(f\"Coefficient of IQ: Each 1-point increase in IQ changes score by {coef_iq:.2f}.\")\n",
        "print(f\"Coefficient of Study Hours: Each extra study hour changes score by {coef_hours:.2f}.\")\n",
        "print(f\"Intercept: {intercept:.2f} is the expected score when IQ=0 and StudyHours=0.\")\n",
        "\n",
        "pred = model.predict([[95, 25]])[0]\n",
        "print(f\"Predicted Test Score (IQ=95, StudyHours=25): {pred:.2f}\")\n",
        "\n",
        "if not hasattr(np, 'bool'):\n",
        "    np.bool = bool\n",
        "\n",
        "explainer = shap.Explainer(model, X)\n",
        "shap_values = explainer(X)\n",
        "\n",
        "shap_df = pd.DataFrame(shap_values.values, columns=['SHAP value for IQ', 'SHAP value for StudyHours'])\n",
        "result_df = pd.concat([df.reset_index(drop=True), shap_df], axis=1)\n",
        "print(\"\\nSHAP Values for All Instances:\")\n",
        "print(result_df)\n",
        "\n",
        "shap.plots.waterfall(shap_values[0], show=False)\n",
        "plt.show()\n",
        "\n",
        "shap.force_plot(explainer.expected_value, shap_values.values, X, show=False)\n",
        "plt.show()\n",
        "\n",
        "\n",
        "shap.summary_plot(shap_values, X, plot_type=\"bar\", show=False)\n",
        "plt.show()"
      ],
      "metadata": {
        "id": "5rvN9xYZIGmq"
      },
      "execution_count": null,
      "outputs": []
    },
    {
      "cell_type": "markdown",
      "source": [
        "problem 3"
      ],
      "metadata": {
        "id": "7Tb09GRhIc8q"
      }
    },
    {
      "cell_type": "code",
      "source": [
        "import pandas as pd\n",
        "import numpy as np\n",
        "import shap\n",
        "import matplotlib.pyplot as plt\n",
        "from sklearn.linear_model import LinearRegression\n",
        "\n",
        "df = pd.read_csv(\"Experience_Salary.csv\")\n",
        "\n",
        "X = df[['YearsExperience']]\n",
        "y = df['Salary']\n",
        "\n",
        "model = LinearRegression()\n",
        "model.fit(X, y)\n",
        "\n",
        "slope = model.coef_[0]\n",
        "intercept = model.intercept_\n",
        "\n",
        "print(f\"Linear Regression Equation: y = {intercept:.2f} + {slope:.2f}x\")\n",
        "print(f\"Slope Interpretation: Each extra year of experience increases salary by {slope:.2f}.\")\n",
        "print(f\"Intercept Interpretation: {intercept:.2f} is the expected salary for 0 years of experience.\")\n",
        "\n",
        "pred_3_5 = model.predict([[3.5]])[0]\n",
        "pred_7 = model.predict([[7]])[0]\n",
        "print(f\"Predicted Salary (3.5 years): {pred_3_5:.2f}\")\n",
        "print(f\"Predicted Salary (7 years): {pred_7:.2f}\")\n",
        "\n",
        "if not hasattr(np, 'bool'):\n",
        "    np.bool = bool\n",
        "\n",
        "explainer = shap.Explainer(model, X)\n",
        "shap_values = explainer(X)\n",
        "\n",
        "shap_df = pd.DataFrame(shap_values.values, columns=['SHAP value for YearsExperience'])\n",
        "result_df = pd.concat([df.reset_index(drop=True), shap_df], axis=1)\n",
        "print(\"\\nSHAP Values for All Instances:\")\n",
        "print(result_df)\n",
        "\n",
        "print(\"Showing SHAP Waterfall Plot for first prediction...\")\n",
        "shap.plots.waterfall(shap_values[0], show=False)\n",
        "plt.show()\n",
        "\n",
        "print(\"Showing SHAP Force Plot for all predictions...\")\n",
        "shap.force_plot(explainer.expected_value, shap_values.values, X)\n",
        "\n",
        "print(\"Showing SHAP Summary Plot...\")\n",
        "shap.summary_plot(shap_values, X, plot_type=\"bar\", show=False)\n",
        "plt.show()"
      ],
      "metadata": {
        "id": "VGMlyBJLIdYB"
      },
      "execution_count": null,
      "outputs": []
    },
    {
      "cell_type": "markdown",
      "source": [
        "problem 4"
      ],
      "metadata": {
        "id": "QDzntI8qIlv7"
      }
    },
    {
      "cell_type": "code",
      "source": [
        "import pandas as pd\n",
        "import shap\n",
        "import matplotlib.pyplot as plt\n",
        "from sklearn.linear_model import LinearRegression\n",
        "\n",
        "shap.initjs()\n",
        "\n",
        "df = pd.read_excel(\"Int_Ext.xlsx\")\n",
        "df = df[['Int', 'Ext', 'sal']].dropna()\n",
        "\n",
        "X = df[['Int', 'Ext']]\n",
        "y = df['sal']\n",
        "\n",
        "model = LinearRegression()\n",
        "model.fit(X, y)\n",
        "\n",
        "print(f\"Model: Sales = {model.coef_[0]:.2f}*Int + {model.coef_[1]:.2f}*Ext + {model.intercept_:.2f}\")\n",
        "\n",
        "pred_1 = model.predict(pd.DataFrame([[100, 25]], columns=['Int', 'Ext']))[0]\n",
        "pred_2 = model.predict(pd.DataFrame([[120, 18]], columns=['Int', 'Ext']))[0]\n",
        "\n",
        "print(f\"Prediction for Int=100, Ext=25: {pred_1:.2f}\")\n",
        "print(f\"Prediction for Int=120, Ext=18: {pred_2:.2f}\")\n",
        "\n",
        "explainer = shap.Explainer(model, X)\n",
        "shap_values = explainer(X)\n",
        "\n",
        "shap.plots.waterfall(shap_values[0])\n",
        "shap.plots.force(shap_values[0])\n",
        "shap.summary_plot(shap_values, X)\n",
        "\n",
        "for i in range(len(X)):\n",
        "    int_contrib = shap_values.values[i][0]\n",
        "    ext_contrib = shap_values.values[i][1]\n",
        "    base_value = shap_values.base_values[i]\n",
        "    predicted = model.predict(pd.DataFrame([X.iloc[i]], columns=X.columns))[0]\n",
        "    print(f\"\\nSalesperson {i+1}:\")\n",
        "    print(f\"Base value: {base_value:.2f}\")\n",
        "    print(f\"Intelligence contribution: {int_contrib:.2f}\")\n",
        "    print(f\"Extroversion contribution: {ext_contrib:.2f}\")\n",
        "    print(f\"Final predicted sales: {predicted:.2f}\")\n",
        "    if abs(int_contrib) > abs(ext_contrib):\n",
        "        print(\"Intelligence contributes MORE\")\n",
        "    else:\n",
        "        print(\"Extroversion contributes MORE\")"
      ],
      "metadata": {
        "id": "cEdhOLNJImGi"
      },
      "execution_count": null,
      "outputs": []
    },
    {
      "cell_type": "markdown",
      "source": [
        "problem 5"
      ],
      "metadata": {
        "id": "5a5H-MiXI1N4"
      }
    },
    {
      "cell_type": "code",
      "source": [
        "import pandas as pd\n",
        "from sklearn.linear_model import LinearRegression\n",
        "import shap\n",
        "\n",
        "df = pd.read_excel(\"/content/Marketing_Dataset.xlsx\")\n",
        "df = df[['facebook', 'newspaper', 'sales']].dropna()\n",
        "\n",
        "X = df[['facebook', 'newspaper']]\n",
        "y = df['sales']\n",
        "\n",
        "model = LinearRegression()\n",
        "model.fit(X, y)\n",
        "\n",
        "print(f\"Model: y = {model.coef_[0]:.2f}*facebook + {model.coef_[1]:.2f}*newspaper + {model.intercept_:.2f}\")\n",
        "\n",
        "print(f\"Prediction for Facebook=50, Newspaper=70: {model.predict(pd.DataFrame([[50, 70]], columns=['facebook', 'newspaper']))[0]:.2f}\")\n",
        "print(f\"Prediction for Facebook=25, Newspaper=30: {model.predict(pd.DataFrame([[25, 30]], columns=['facebook', 'newspaper']))[0]:.2f}\")\n",
        "\n",
        "explainer = shap.Explainer(model, X)\n",
        "shap_values = explainer(X)\n",
        "\n",
        "shap.plots.waterfall(shap_values[0], show=True)\n",
        "shap.force_plot(explainer.expected_value, shap_values[0].values, X.iloc[0])\n",
        "shap.summary_plot(shap_values, X)\n",
        "\n"
      ],
      "metadata": {
        "id": "KUH5oQYVI1lT"
      },
      "execution_count": null,
      "outputs": []
    }
  ]
}