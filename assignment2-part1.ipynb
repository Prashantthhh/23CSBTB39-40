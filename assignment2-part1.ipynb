{
  "nbformat": 4,
  "nbformat_minor": 0,
  "metadata": {
    "colab": {
      "provenance": [],
      "authorship_tag": "ABX9TyOt7gOsqxS0MhMO5h7lPjVy",
      "include_colab_link": true
    },
    "kernelspec": {
      "name": "python3",
      "display_name": "Python 3"
    },
    "language_info": {
      "name": "python"
    }
  },
  "cells": [
    {
      "cell_type": "markdown",
      "metadata": {
        "id": "view-in-github",
        "colab_type": "text"
      },
      "source": [
        "<a href=\"https://colab.research.google.com/github/Prashantthhh/23CSBTB39-40/blob/main/assignment2-part1.ipynb\" target=\"_parent\"><img src=\"https://colab.research.google.com/assets/colab-badge.svg\" alt=\"Open In Colab\"/></a>"
      ]
    },
    {
      "cell_type": "code",
      "execution_count": 1,
      "metadata": {
        "colab": {
          "base_uri": "https://localhost:8080/"
        },
        "id": "Hz0QK6r-EHrm",
        "outputId": "0b3cdf4f-8d39-4259-bb0e-83cedd63263d"
      },
      "outputs": [
        {
          "output_type": "stream",
          "name": "stdout",
          "text": [
            "Type of list1: <class 'list'>\n",
            "Type of list2: <class 'list'>\n"
          ]
        }
      ],
      "source": [
        "# Import necessary libraries\n",
        "import numpy as np\n",
        "import pandas as pd\n",
        "\n",
        "# Create lists\n",
        "list1 = [1, 2, 3, 4]\n",
        "list2 = [5, 6, 7, 8]\n",
        "\n",
        "# Identify their type\n",
        "print(\"Type of list1:\", type(list1))\n",
        "print(\"Type of list2:\", type(list2))"
      ]
    },
    {
      "cell_type": "code",
      "source": [
        "# Convert lists to NumPy arrays\n",
        "array1 = np.array(list1)\n",
        "array2 = np.array(list2)\n",
        "\n",
        "# Identify their type\n",
        "print(\"Type of array1:\", type(array1))\n",
        "print(\"Type of array2:\", type(array2))"
      ],
      "metadata": {
        "colab": {
          "base_uri": "https://localhost:8080/"
        },
        "id": "HfqMAmANEvJt",
        "outputId": "2213f77c-6a76-45bb-ea12-eac6af6194fe"
      },
      "execution_count": 2,
      "outputs": [
        {
          "output_type": "stream",
          "name": "stdout",
          "text": [
            "Type of array1: <class 'numpy.ndarray'>\n",
            "Type of array2: <class 'numpy.ndarray'>\n"
          ]
        }
      ]
    },
    {
      "cell_type": "code",
      "source": [
        "# Perform operations\n",
        "multiplication = array1 * array2\n",
        "division = array1 / array2\n",
        "poweroff = np.power(array1, 2)  # Square each element of array1\n",
        "\n",
        "# Print results\n",
        "print(\"Multiplication:\\n\", multiplication)\n",
        "print(\"Division:\\n\", division)\n",
        "print(\"Power of 2:\\n\", poweroff)"
      ],
      "metadata": {
        "id": "xxD-6eDaFTOT"
      },
      "execution_count": null,
      "outputs": []
    },
    {
      "cell_type": "code",
      "source": [
        "# Create a textual output\n",
        "textual_output = f\"Addition of Two:\\n{array1} + {array2} = {array1 + array2}\"\n",
        "\n",
        "# Print the textual output\n",
        "print(textual_output)"
      ],
      "metadata": {
        "colab": {
          "base_uri": "https://localhost:8080/"
        },
        "id": "gRkTLSmVFZo-",
        "outputId": "e5f3ee2a-8e50-4386-aa96-db8cbb543f93"
      },
      "execution_count": 3,
      "outputs": [
        {
          "output_type": "stream",
          "name": "stdout",
          "text": [
            "Addition of Two:\n",
            "[1 2 3 4] + [5 6 7 8] = [ 6  8 10 12]\n"
          ]
        }
      ]
    },
    {
      "cell_type": "code",
      "source": [
        "# Apply NumPy mathematical functions\n",
        "sin_values = np.sin(array1)\n",
        "log_values = np.log(array1)       # Natural logarithm\n",
        "log2_values = np.log2(array1)     # Base-2 logarithm\n",
        "exp_values = np.exp(array1)       # Exponential\n",
        "\n",
        "# Print results\n",
        "print(\"Sin values:\\n\", sin_values)\n",
        "print(\"Log values:\\n\", log_values)\n",
        "print(\"Log2 values:\\n\", log2_values)\n",
        "print(\"Exp values:\\n\", exp_values)"
      ],
      "metadata": {
        "colab": {
          "base_uri": "https://localhost:8080/"
        },
        "id": "td9SsUoyFrHu",
        "outputId": "822d5b2d-d846-4fa0-d828-7ec9ed1748f2"
      },
      "execution_count": 4,
      "outputs": [
        {
          "output_type": "stream",
          "name": "stdout",
          "text": [
            "Sin values:\n",
            " [ 0.84147098  0.90929743  0.14112001 -0.7568025 ]\n",
            "Log values:\n",
            " [0.         0.69314718 1.09861229 1.38629436]\n",
            "Log2 values:\n",
            " [0.        1.        1.5849625 2.       ]\n",
            "Exp values:\n",
            " [ 2.71828183  7.3890561  20.08553692 54.59815003]\n"
          ]
        }
      ]
    }
  ]
}